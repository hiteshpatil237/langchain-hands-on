{
 "cells": [
  {
   "cell_type": "code",
   "execution_count": 1,
   "id": "b752ce8f",
   "metadata": {},
   "outputs": [],
   "source": [
    "import os\n",
    "\n",
    "with open(\".env\") as f:\n",
    "    for line in f:\n",
    "        # Ignore comments and empty lines\n",
    "        if line.strip() and not line.startswith(\"#\"):\n",
    "            key, value = line.strip().split(\"=\", 1)\n",
    "            os.environ[key] = value"
   ]
  },
  {
   "cell_type": "code",
   "execution_count": 2,
   "id": "44ddc446",
   "metadata": {},
   "outputs": [],
   "source": [
    "from langchain.chat_models import ChatOpenAI\n",
    "from langchain.prompts.chat import (\n",
    "    ChatPromptTemplate,\n",
    "    SystemMessagePromptTemplate,\n",
    "    HumanMessagePromptTemplate\n",
    ")\n",
    "from langchain.chains import LLMChain\n",
    "api_key = os.environ.get('API_KEY')\n",
    "api_key = api_key.strip('\"')"
   ]
  },
  {
   "cell_type": "code",
   "execution_count": 3,
   "id": "0aa8ab28",
   "metadata": {},
   "outputs": [],
   "source": [
    "template = \"\"\"You are an English teacher. The user will provide an English sentence as Input. Please give output as Correct if \n",
    "it is grammatically right else give output as Wrong and rewrite the correct sentence in the next line.\"\"\"\n",
    "\n",
    "system_message_prompt = SystemMessagePromptTemplate.from_template(template)\n",
    "human_template = \"{text}\"\n",
    "human_message_prompt = HumanMessagePromptTemplate.from_template(human_template)"
   ]
  },
  {
   "cell_type": "code",
   "execution_count": 4,
   "id": "e40f22eb",
   "metadata": {},
   "outputs": [],
   "source": [
    "chat_prompt = ChatPromptTemplate.from_messages([system_message_prompt, human_message_prompt])\n",
    "chain = LLMChain(\n",
    "    llm=ChatOpenAI(openai_api_key=api_key),\n",
    "    prompt=chat_prompt\n",
    ")"
   ]
  },
  {
   "cell_type": "code",
   "execution_count": 5,
   "id": "18453bcc",
   "metadata": {},
   "outputs": [
    {
     "name": "stdout",
     "output_type": "stream",
     "text": [
      "Prompt 1:  Wrong\n",
      "You are not totally mad!\n"
     ]
    }
   ],
   "source": [
    "print(\"Prompt 1: \", chain.run(\"You totally is not mad!\"))"
   ]
  },
  {
   "cell_type": "code",
   "execution_count": null,
   "id": "27abf1ae",
   "metadata": {},
   "outputs": [],
   "source": []
  }
 ],
 "metadata": {
  "kernelspec": {
   "display_name": "Python 3",
   "language": "python",
   "name": "python3"
  },
  "language_info": {
   "codemirror_mode": {
    "name": "ipython",
    "version": 3
   },
   "file_extension": ".py",
   "mimetype": "text/x-python",
   "name": "python",
   "nbconvert_exporter": "python",
   "pygments_lexer": "ipython3",
   "version": "3.11.4"
  }
 },
 "nbformat": 4,
 "nbformat_minor": 5
}
