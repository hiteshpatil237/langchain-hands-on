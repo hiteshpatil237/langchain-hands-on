{
 "cells": [
  {
   "cell_type": "code",
   "execution_count": 3,
   "id": "72fa5e92",
   "metadata": {},
   "outputs": [],
   "source": [
    "import os\n",
    "\n",
    "with open(\".env\") as f:\n",
    "    for line in f:\n",
    "        # Ignore comments and empty lines\n",
    "        if line.strip() and not line.startswith(\"#\"):\n",
    "            key, value = line.strip().split(\"=\", 1)\n",
    "            os.environ[key] = value\n",
    "            \n",
    "api_key = os.environ.get('API_KEY')\n",
    "api_key = api_key.strip('\"')"
   ]
  },
  {
   "cell_type": "code",
   "execution_count": 4,
   "id": "753ebac7",
   "metadata": {},
   "outputs": [],
   "source": [
    "from langchain.chat_models import ChatOpenAI\n",
    "from langchain.document_loaders import WebBaseLoader\n",
    "from langchain.chains.summarize import load_summarize_chain\n",
    "\n",
    "llm = ChatOpenAI(openai_api_key=api_key)"
   ]
  },
  {
   "cell_type": "code",
   "execution_count": 6,
   "id": "7a42166b",
   "metadata": {},
   "outputs": [
    {
     "data": {
      "text/plain": [
       "'The GitHub repository \"facebookresearch/llama\" contains inference code for LLaMA models. It provides access to pretrained and fine-tuned language models with various parameters. The repository includes instructions for downloading the models and running inference locally. The models can be used for tasks such as text completion and chat applications. The repository also provides a Responsible Use Guide and encourages users to report issues and provide feedback.'"
      ]
     },
     "execution_count": 6,
     "metadata": {},
     "output_type": "execute_result"
    }
   ],
   "source": [
    "loader = WebBaseLoader(\"https://github.com/facebookresearch/llama\")\n",
    "chain = load_summarize_chain(llm, chain_type=\"refine\")\n",
    "docs = loader.load()\n",
    "chain.run(docs)"
   ]
  },
  {
   "cell_type": "code",
   "execution_count": null,
   "id": "93ac5b42",
   "metadata": {},
   "outputs": [],
   "source": []
  }
 ],
 "metadata": {
  "kernelspec": {
   "display_name": "Python 3",
   "language": "python",
   "name": "python3"
  },
  "language_info": {
   "codemirror_mode": {
    "name": "ipython",
    "version": 3
   },
   "file_extension": ".py",
   "mimetype": "text/x-python",
   "name": "python",
   "nbconvert_exporter": "python",
   "pygments_lexer": "ipython3",
   "version": "3.11.4"
  }
 },
 "nbformat": 4,
 "nbformat_minor": 5
}
