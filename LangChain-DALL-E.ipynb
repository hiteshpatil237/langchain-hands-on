{
 "cells": [
  {
   "cell_type": "code",
   "execution_count": 1,
   "id": "8189c327",
   "metadata": {},
   "outputs": [],
   "source": [
    "import os\n",
    "\n",
    "with open(\".env\") as f:\n",
    "    for line in f:\n",
    "        # Ignore comments and empty lines\n",
    "        if line.strip() and not line.startswith(\"#\"):\n",
    "            key, value = line.strip().split(\"=\", 1)\n",
    "            os.environ[key] = value\n",
    "            \n",
    "api_key = os.environ.get('API_KEY')\n",
    "api_key = api_key.strip('\"')"
   ]
  },
  {
   "cell_type": "code",
   "execution_count": 4,
   "id": "0fd855cc",
   "metadata": {},
   "outputs": [],
   "source": [
    "from langchain.utilities.dalle_image_generator import DallEAPIWrapper\n",
    "from langchain.prompts import PromptTemplate\n",
    "from langchain.chains import LLMChain\n",
    "from langchain.llms import OpenAI\n",
    "\n",
    "llm = OpenAI(temperature=0.9, openai_api_key=api_key)\n",
    "prompt = PromptTemplate(\n",
    "    input_variables=[\"image_desc\"],\n",
    "    template=\"Generate a detailed prompt to generate an image based on the following decription: {image_desc}\"\n",
    ")\n",
    "chain = LLMChain(llm=llm, prompt=prompt)"
   ]
  },
  {
   "cell_type": "code",
   "execution_count": 9,
   "id": "0cf07310",
   "metadata": {},
   "outputs": [],
   "source": [
    "image_url = DallEAPIWrapper(openai_api_key=api_key).run(chain.run(\"GPT models if they somehow became human\"))"
   ]
  },
  {
   "cell_type": "code",
   "execution_count": 10,
   "id": "7ffce072",
   "metadata": {},
   "outputs": [
    {
     "data": {
      "text/plain": [
       "'https://oaidalleapiprodscus.blob.core.windows.net/private/org-sugwFusXR02aUpUaz0uE6O0a/user-pxklkfFnDf7tp2Apo4V3dRTl/img-DWIu68tdLMKnkEE04JtVPzJC.png?st=2023-10-24T13%3A39%3A47Z&se=2023-10-24T15%3A39%3A47Z&sp=r&sv=2021-08-06&sr=b&rscd=inline&rsct=image/png&skoid=6aaadede-4fb3-4698-a8f6-684d7786b067&sktid=a48cca56-e6da-484e-a814-9c849652bcb3&skt=2023-10-24T03%3A54%3A51Z&ske=2023-10-25T03%3A54%3A51Z&sks=b&skv=2021-08-06&sig=nLS/Me4HtTMneVRRqfQanCuVGbC0LuwKmwvwpgyRxXU%3D'"
      ]
     },
     "execution_count": 10,
     "metadata": {},
     "output_type": "execute_result"
    }
   ],
   "source": [
    "image_url"
   ]
  },
  {
   "cell_type": "code",
   "execution_count": null,
   "id": "db9d8f09",
   "metadata": {},
   "outputs": [],
   "source": []
  }
 ],
 "metadata": {
  "kernelspec": {
   "display_name": "Python 3",
   "language": "python",
   "name": "python3"
  },
  "language_info": {
   "codemirror_mode": {
    "name": "ipython",
    "version": 3
   },
   "file_extension": ".py",
   "mimetype": "text/x-python",
   "name": "python",
   "nbconvert_exporter": "python",
   "pygments_lexer": "ipython3",
   "version": "3.11.4"
  }
 },
 "nbformat": 4,
 "nbformat_minor": 5
}
