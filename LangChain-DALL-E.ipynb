{
 "cells": [
  {
   "cell_type": "code",
   "execution_count": 1,
   "id": "7631d037",
   "metadata": {},
   "outputs": [],
   "source": [
    "import os\n",
    "\n",
    "with open(\".env\") as f:\n",
    "    for line in f:\n",
    "        # Ignore comments and empty lines\n",
    "        if line.strip() and not line.startswith(\"#\"):\n",
    "            key, value = line.strip().split(\"=\", 1)\n",
    "            os.environ[key] = value\n",
    "            \n",
    "api_key = os.environ.get('API_KEY')\n",
    "api_key = api_key.strip('\"')"
   ]
  },
  {
   "cell_type": "code",
   "execution_count": 4,
   "id": "9aa18c4c",
   "metadata": {},
   "outputs": [],
   "source": [
    "from langchain.utilities.dalle_image_generator import DallEAPIWrapper\n",
    "from langchain.prompts import PromptTemplate\n",
    "from langchain.chains import LLMChain\n",
    "from langchain.llms import OpenAI\n",
    "\n",
    "llm = OpenAI(temperature=0.9, openai_api_key=api_key)\n",
    "prompt = PromptTemplate(\n",
    "    input_variables=[\"image_desc\"],\n",
    "    template=\"Generate a detailed prompt to generate an image based on the following decription: {image_desc}\"\n",
    ")\n",
    "chain = LLMChain(llm=llm, prompt=prompt)"
   ]
  },
  {
   "cell_type": "code",
   "execution_count": 43,
   "id": "9012bbeb",
   "metadata": {},
   "outputs": [],
   "source": [
    "image_url = DallEAPIWrapper(openai_api_key=api_key).run(chain.run(\"Mohit Vaswani Kissing\"))"
   ]
  },
  {
   "cell_type": "code",
   "execution_count": 45,
   "id": "0ecef564",
   "metadata": {},
   "outputs": [
    {
     "data": {
      "text/plain": [
       "'https://oaidalleapiprodscus.blob.core.windows.net/private/org-sugwFusXR02aUpUaz0uE6O0a/user-pxklkfFnDf7tp2Apo4V3dRTl/img-OGL5TzpuF6FPHVvjT08gcwBd.png?st=2023-10-24T18%3A22%3A14Z&se=2023-10-24T20%3A22%3A14Z&sp=r&sv=2021-08-06&sr=b&rscd=inline&rsct=image/png&skoid=6aaadede-4fb3-4698-a8f6-684d7786b067&sktid=a48cca56-e6da-484e-a814-9c849652bcb3&skt=2023-10-24T17%3A27%3A56Z&ske=2023-10-25T17%3A27%3A56Z&sks=b&skv=2021-08-06&sig=lK0n1AyrJFH2uzhZvpNvhjE/9U7uLsmZujF3vIwRX04%3D'"
      ]
     },
     "execution_count": 45,
     "metadata": {},
     "output_type": "execute_result"
    }
   ],
   "source": [
    "image_url"
   ]
  },
  {
   "cell_type": "code",
   "execution_count": null,
   "id": "9fc04d51",
   "metadata": {},
   "outputs": [],
   "source": []
  }
 ],
 "metadata": {
  "kernelspec": {
   "display_name": "Python 3",
   "language": "python",
   "name": "python3"
  },
  "language_info": {
   "codemirror_mode": {
    "name": "ipython",
    "version": 3
   },
   "file_extension": ".py",
   "mimetype": "text/x-python",
   "name": "python",
   "nbconvert_exporter": "python",
   "pygments_lexer": "ipython3",
   "version": "3.11.4"
  }
 },
 "nbformat": 4,
 "nbformat_minor": 5
}
